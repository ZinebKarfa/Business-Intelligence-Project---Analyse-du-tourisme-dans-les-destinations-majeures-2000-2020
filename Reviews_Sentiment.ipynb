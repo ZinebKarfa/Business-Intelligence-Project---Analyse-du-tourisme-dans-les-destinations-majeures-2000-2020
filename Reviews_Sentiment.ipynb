{
  "nbformat": 4,
  "nbformat_minor": 0,
  "metadata": {
    "colab": {
      "provenance": [],
      "include_colab_link": true
    },
    "kernelspec": {
      "name": "python3",
      "display_name": "Python 3"
    },
    "language_info": {
      "name": "python"
    }
  },
  "cells": [
    {
      "cell_type": "markdown",
      "metadata": {
        "id": "view-in-github",
        "colab_type": "text"
      },
      "source": [
        "<a href=\"https://colab.research.google.com/github/ZinebKarfa/Business-Intelligence-Project---Analyse-du-tourisme-dans-les-destinations-majeures-2000-2020/blob/main/Reviews_Sentiment.ipynb\" target=\"_parent\"><img src=\"https://colab.research.google.com/assets/colab-badge.svg\" alt=\"Open In Colab\"/></a>"
      ]
    },
    {
      "cell_type": "code",
      "execution_count": null,
      "metadata": {
        "colab": {
          "base_uri": "https://localhost:8080/"
        },
        "id": "sL2XyuKD1R_6",
        "outputId": "d5c5e12c-f7ab-4f83-ec3c-6270314c26c3"
      },
      "outputs": [
        {
          "output_type": "stream",
          "name": "stdout",
          "text": [
            "Requirement already satisfied: pandas in /usr/local/lib/python3.10/dist-packages (1.5.3)\n",
            "Requirement already satisfied: textblob in /usr/local/lib/python3.10/dist-packages (0.17.1)\n",
            "Requirement already satisfied: openpyxl in /usr/local/lib/python3.10/dist-packages (3.1.2)\n",
            "Requirement already satisfied: python-dateutil>=2.8.1 in /usr/local/lib/python3.10/dist-packages (from pandas) (2.8.2)\n",
            "Requirement already satisfied: pytz>=2020.1 in /usr/local/lib/python3.10/dist-packages (from pandas) (2023.3.post1)\n",
            "Requirement already satisfied: numpy>=1.21.0 in /usr/local/lib/python3.10/dist-packages (from pandas) (1.23.5)\n",
            "Requirement already satisfied: nltk>=3.1 in /usr/local/lib/python3.10/dist-packages (from textblob) (3.8.1)\n",
            "Requirement already satisfied: et-xmlfile in /usr/local/lib/python3.10/dist-packages (from openpyxl) (1.1.0)\n",
            "Requirement already satisfied: click in /usr/local/lib/python3.10/dist-packages (from nltk>=3.1->textblob) (8.1.7)\n",
            "Requirement already satisfied: joblib in /usr/local/lib/python3.10/dist-packages (from nltk>=3.1->textblob) (1.3.2)\n",
            "Requirement already satisfied: regex>=2021.8.3 in /usr/local/lib/python3.10/dist-packages (from nltk>=3.1->textblob) (2023.6.3)\n",
            "Requirement already satisfied: tqdm in /usr/local/lib/python3.10/dist-packages (from nltk>=3.1->textblob) (4.66.1)\n",
            "Requirement already satisfied: six>=1.5 in /usr/local/lib/python3.10/dist-packages (from python-dateutil>=2.8.1->pandas) (1.16.0)\n"
          ]
        }
      ],
      "source": [
        "!pip install pandas textblob openpyxl\n"
      ]
    },
    {
      "cell_type": "code",
      "source": [
        "import pandas as pd\n",
        "from textblob import TextBlob\n",
        "import re"
      ],
      "metadata": {
        "id": "OkQM4VpD1nQn"
      },
      "execution_count": null,
      "outputs": []
    },
    {
      "cell_type": "code",
      "source": [
        "# Read the Excel file\n",
        "file_path = '/content/Reviews.xlsx'  # Update this with the path to your uploaded file\n",
        "df = pd.read_excel(file_path)\n",
        "\n",
        "# Display the first few rows to understand the structure\n",
        "print(df.head())\n"
      ],
      "metadata": {
        "colab": {
          "base_uri": "https://localhost:8080/"
        },
        "id": "_BP_Btz_1o6b",
        "outputId": "438939cc-2671-441f-e99f-7e833f708b89"
      },
      "execution_count": null,
      "outputs": [
        {
          "output_type": "stream",
          "name": "stdout",
          "text": [
            "  Attraction Name  User Name                              User Profile  \\\n",
            "0    Eiffel Tower  Jeddrek R      www.tripadvisor.com/Profile/jeddrekr   \n",
            "1    Eiffel Tower  Elliott M   www.tripadvisor.com/Profile/Elliottmiss   \n",
            "2    Eiffel Tower  Atlanta H    www.tripadvisor.com/Profile/53atlantah   \n",
            "3    Eiffel Tower    Gizem Ş     www.tripadvisor.com/Profile/gizem_574   \n",
            "4    Eiffel Tower      Steph  www.tripadvisor.com/Profile/AnotherSteph   \n",
            "\n",
            "   Rating                  Review Title  \\\n",
            "0       1             Dragon in londan    \n",
            "1       4  Elevator vs stair experience   \n",
            "2       5                  SHE IS GORG    \n",
            "3       5                       Eyfelll   \n",
            "4       4                    Do it once   \n",
            "\n",
            "                                              Review                Date  \n",
            "0  The dragon ate my grandma. I only lived becaus...   December 11, 2023  \n",
            "1  Great visit and amazing landmark (obviously). ...   December 10, 2023  \n",
            "2  Tops the Blackpool tower anyday, would be perf...    December 7, 2023  \n",
            "3  Very beautiful area please go to the park and ...    December 7, 2023  \n",
            "4  Most of the staff were friendly, the food at t...    December 6, 2023  \n"
          ]
        }
      ]
    },
    {
      "cell_type": "code",
      "source": [
        "# Load the Excel file\n",
        "file_path = '/content/Reviews.xlsx'  # Update with the path to your uploaded file\n",
        "df = pd.read_excel(file_path)\n",
        "\n",
        "# Function to clean the text\n",
        "def clean_text(text):\n",
        "    text = re.sub(r'[^a-zA-Z\\s]', '', text, re.I|re.A)\n",
        "    text = text.lower()\n",
        "    return text\n",
        "\n",
        "# Clean the reviews\n",
        "df['cleaned_reviews'] = df['Review'].apply(clean_text)\n",
        "\n",
        "# Analyze sentiment\n",
        "def analyze_sentiment(review):\n",
        "    analysis = TextBlob(review)\n",
        "    return analysis.sentiment.polarity\n",
        "\n",
        "df['sentiment_score'] = df['cleaned_reviews'].apply(analyze_sentiment)\n",
        "\n",
        "# Save the dataframe with the new columns to a CSV file\n",
        "csv_file_path = '/content/full_data_with_sentiment.csv'  # Update with your desired file path\n",
        "df.to_csv(csv_file_path, index=False)\n",
        "\n",
        "print(f\"Full data with sentiment analysis saved to {csv_file_path}\")\n"
      ],
      "metadata": {
        "colab": {
          "base_uri": "https://localhost:8080/"
        },
        "id": "8WCub1111qjY",
        "outputId": "5340e167-ba89-430e-abdc-1ebf1fc22497"
      },
      "execution_count": null,
      "outputs": [
        {
          "output_type": "stream",
          "name": "stdout",
          "text": [
            "Full data with sentiment analysis saved to /content/full_data_with_sentiment.csv\n"
          ]
        }
      ]
    },
    {
      "cell_type": "code",
      "source": [
        "# Try reading the file with pandas\n",
        "try:\n",
        "    df = pd.read_csv('/content/full_data_with_sentiment.csv')\n",
        "\n",
        "    # Define the thresholds for sentiment classification\n",
        "    positive_threshold = 0.05\n",
        "    negative_threshold = -0.05\n",
        "\n",
        "    # Function to classify sentiment based on score\n",
        "    def classify_sentiment(score):\n",
        "        if score > positive_threshold:\n",
        "            return 'Positive'\n",
        "        elif score < negative_threshold:\n",
        "            return 'Negative'\n",
        "        else:\n",
        "            return 'Neutral'\n",
        "\n",
        "    # Apply the function to classify sentiments\n",
        "    df['Sentiment'] = df['sentiment_score'].apply(classify_sentiment)\n",
        "\n",
        "    # Displaying the first few rows of the updated dataframe\n",
        "    print(df.head())  # Explicitly calling print()\n",
        "except Exception as e:\n",
        "    print(f\"An error occurred: {e}\")\n"
      ],
      "metadata": {
        "colab": {
          "base_uri": "https://localhost:8080/"
        },
        "id": "XWsyShQlnsGq",
        "outputId": "c8b02a0a-79fc-4e3f-a85d-c707ebb5b491"
      },
      "execution_count": null,
      "outputs": [
        {
          "output_type": "stream",
          "name": "stdout",
          "text": [
            "  Attraction Name  User Name                              User Profile  \\\n",
            "0    Eiffel Tower  Jeddrek R      www.tripadvisor.com/Profile/jeddrekr   \n",
            "1    Eiffel Tower  Elliott M   www.tripadvisor.com/Profile/Elliottmiss   \n",
            "2    Eiffel Tower  Atlanta H    www.tripadvisor.com/Profile/53atlantah   \n",
            "3    Eiffel Tower    Gizem Ş     www.tripadvisor.com/Profile/gizem_574   \n",
            "4    Eiffel Tower      Steph  www.tripadvisor.com/Profile/AnotherSteph   \n",
            "\n",
            "   Rating                  Review Title  \\\n",
            "0       1             Dragon in londan    \n",
            "1       4  Elevator vs stair experience   \n",
            "2       5                  SHE IS GORG    \n",
            "3       5                       Eyfelll   \n",
            "4       4                    Do it once   \n",
            "\n",
            "                                              Review                Date  \\\n",
            "0  The dragon ate my grandma. I only lived becaus...   December 11, 2023   \n",
            "1  Great visit and amazing landmark (obviously). ...   December 10, 2023   \n",
            "2  Tops the Blackpool tower anyday, would be perf...    December 7, 2023   \n",
            "3  Very beautiful area please go to the park and ...    December 7, 2023   \n",
            "4  Most of the staff were friendly, the food at t...    December 6, 2023   \n",
            "\n",
            "                                     cleaned_reviews  sentiment_score  \\\n",
            "0  the dragon ate my grandma i only lived because...         0.166667   \n",
            "1  great visit and amazing landmark obviously jus...         0.170615   \n",
            "2  tops the blackpool tower anyday would be perfe...         0.083333   \n",
            "3  very beautiful area please go to the park and ...         0.700000   \n",
            "4  most of the staff were friendly the food at th...         0.534375   \n",
            "\n",
            "  Sentiment  \n",
            "0  Positive  \n",
            "1  Positive  \n",
            "2  Positive  \n",
            "3  Positive  \n",
            "4  Positive  \n"
          ]
        }
      ]
    }
  ]
}